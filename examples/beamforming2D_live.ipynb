{
 "cells": [
  {
   "cell_type": "code",
   "execution_count": 17,
   "metadata": {},
   "outputs": [],
   "source": [
    "from radartools.datareader import LiveAWR2243Reader\n",
    "from radartools.radardsp.utils.preprocess.calibration import apply2243_calib_vector_iplab\n",
    "\n",
    "livereader = LiveAWR2243Reader('/mnt/ssd/409_reflector', nloops=1, nsamples=256, \n",
    "                           radarip=\"192.168.50.253\")\n",
    "\n",
    "## read all captures and frames inside reader directory\n",
    "# capturenum, _ = reader.count_captures()\n",
    "# for c in range(capturenum):\n",
    "#     framenum, _, _ = reader.get_capture_info(c)\n",
    "#     for f in range(framenum):\n",
    "#         frame = reader.readframe(c, f)\n",
    "\n",
    "calibfile = '../resources/id253-hor-cali.mat'"
   ]
  },
  {
   "cell_type": "code",
   "execution_count": 18,
   "metadata": {},
   "outputs": [],
   "source": [
    "from radartools.radardsp.processor import BeamformingProcessor\n",
    "from radartools.radardsp.utils.preprocess.antennas import adc2virtual_array\n",
    "\n",
    "process_setting = '../settings/processing.py'\n",
    "processor = BeamformingProcessor(process_setting)\n",
    "# import cProfile\n",
    "\n",
    "# cProfile.run('processor = BeamformingProcessor(process_setting)')"
   ]
  },
  {
   "cell_type": "code",
   "execution_count": 19,
   "metadata": {},
   "outputs": [],
   "source": [
    "import scipy.io as sio\n",
    "\n",
    "rxl, txl = processor.cfg.layout['rxl'], processor.cfg.layout['txl']\n",
    "\n",
    "cnt = 0\n",
    "calib_mat = sio.loadmat(calibfile)\n",
    "# calibrate frame\n",
    "while True:\n",
    "    frame = livereader.nextframe()\n",
    "    if type(frame) == type(None):\n",
    "        break\n",
    "    cnt += 1\n",
    "    calibratated_frame = apply2243_calib_vector_iplab(frame, calib_mat)\n",
    "    va_adc = adc2virtual_array(calibratated_frame, rxl, txl)\n",
    "    aoatof = processor.process(va_adc)"
   ]
  },
  {
   "cell_type": "code",
   "execution_count": 13,
   "metadata": {},
   "outputs": [
    {
     "name": "stdout",
     "output_type": "stream",
     "text": [
      "1199\n"
     ]
    }
   ],
   "source": [
    "print(cnt)"
   ]
  },
  {
   "cell_type": "code",
   "execution_count": null,
   "metadata": {},
   "outputs": [],
   "source": [
    "import matplotlib.pyplot as plt\n",
    "\n",
    "plt.imshow(abs(aoatof))\n",
    "plt.gca().invert_yaxis()"
   ]
  }
 ],
 "metadata": {
  "kernelspec": {
   "display_name": "mmmesh",
   "language": "python",
   "name": "python3"
  },
  "language_info": {
   "codemirror_mode": {
    "name": "ipython",
    "version": 3
   },
   "file_extension": ".py",
   "mimetype": "text/x-python",
   "name": "python",
   "nbconvert_exporter": "python",
   "pygments_lexer": "ipython3",
   "version": "3.10.10"
  },
  "orig_nbformat": 4
 },
 "nbformat": 4,
 "nbformat_minor": 2
}
