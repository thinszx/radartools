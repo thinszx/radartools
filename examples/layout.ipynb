{
 "cells": [
  {
   "cell_type": "code",
   "execution_count": 1,
   "metadata": {},
   "outputs": [],
   "source": [
    "import os\n",
    "import sys\n",
    "\n",
    "os.chdir('..')\n",
    "sys.path.append(os.getcwd())"
   ]
  },
  {
   "cell_type": "code",
   "execution_count": 2,
   "metadata": {},
   "outputs": [],
   "source": [
    "from config import JSONConfig\n",
    "\n",
    "# load config\n",
    "cfg = JSONConfig('/mnt/c/ti/mmwave_studio_03_00_00_07/mmWaveStudio/PostProc/hiber2_408/hiber2_408.mmwave.json')"
   ]
  },
  {
   "cell_type": "code",
   "execution_count": 3,
   "metadata": {},
   "outputs": [
    {
     "ename": "AssertionError",
     "evalue": "Layout file does not exist",
     "output_type": "error",
     "traceback": [
      "\u001b[0;31m---------------------------------------------------------------------------\u001b[0m",
      "\u001b[0;31mAssertionError\u001b[0m                            Traceback (most recent call last)",
      "\u001b[1;32m/mnt/d/coderepo/Python/radarsp/radartools/examples/layout.ipynb Cell 3\u001b[0m in \u001b[0;36m4\n\u001b[1;32m      <a href='vscode-notebook-cell://wsl%2Bubuntu/mnt/d/coderepo/Python/radarsp/radartools/examples/layout.ipynb#W2sdnNjb2RlLXJlbW90ZQ%3D%3D?line=0'>1</a>\u001b[0m \u001b[39mimport\u001b[39;00m \u001b[39mmatplotlib\u001b[39;00m\u001b[39m.\u001b[39;00m\u001b[39mpyplot\u001b[39;00m \u001b[39mas\u001b[39;00m \u001b[39mplt\u001b[39;00m\n\u001b[1;32m      <a href='vscode-notebook-cell://wsl%2Bubuntu/mnt/d/coderepo/Python/radarsp/radartools/examples/layout.ipynb#W2sdnNjb2RlLXJlbW90ZQ%3D%3D?line=1'>2</a>\u001b[0m \u001b[39mfrom\u001b[39;00m \u001b[39mradardsp\u001b[39;00m\u001b[39m.\u001b[39;00m\u001b[39mantennas\u001b[39;00m \u001b[39mimport\u001b[39;00m load_virtual_array_layout\n\u001b[0;32m----> <a href='vscode-notebook-cell://wsl%2Bubuntu/mnt/d/coderepo/Python/radarsp/radartools/examples/layout.ipynb#W2sdnNjb2RlLXJlbW90ZQ%3D%3D?line=3'>4</a>\u001b[0m rxl, txl \u001b[39m=\u001b[39m load_virtual_array_layout(\u001b[39m'\u001b[39;49m\u001b[39m./antenna_cfg.txt\u001b[39;49m\u001b[39m'\u001b[39;49m)\n\u001b[1;32m      <a href='vscode-notebook-cell://wsl%2Bubuntu/mnt/d/coderepo/Python/radarsp/radartools/examples/layout.ipynb#W2sdnNjb2RlLXJlbW90ZQ%3D%3D?line=4'>5</a>\u001b[0m \u001b[39m######### plot virtual array layout #########\u001b[39;00m\n\u001b[1;32m      <a href='vscode-notebook-cell://wsl%2Bubuntu/mnt/d/coderepo/Python/radarsp/radartools/examples/layout.ipynb#W2sdnNjb2RlLXJlbW90ZQ%3D%3D?line=5'>6</a>\u001b[0m x \u001b[39m=\u001b[39m []\n",
      "File \u001b[0;32m/mnt/d/coderepo/Python/radarsp/radartools/radardsp/antennas.py:38\u001b[0m, in \u001b[0;36mload_virtual_array_layout\u001b[0;34m(layout_file)\u001b[0m\n\u001b[1;32m     36\u001b[0m rxl \u001b[39m=\u001b[39m []    \u001b[39m# RX layout\u001b[39;00m\n\u001b[1;32m     37\u001b[0m txl \u001b[39m=\u001b[39m []    \u001b[39m# TX layout\u001b[39;00m\n\u001b[0;32m---> 38\u001b[0m \u001b[39massert\u001b[39;00m osp\u001b[39m.\u001b[39mexists(layout_file), \u001b[39m\"\u001b[39m\u001b[39mLayout file does not exist\u001b[39m\u001b[39m\"\u001b[39m\n\u001b[1;32m     39\u001b[0m \u001b[39mwith\u001b[39;00m \u001b[39mopen\u001b[39m(osp\u001b[39m.\u001b[39mjoin(layout_file), \u001b[39m\"\u001b[39m\u001b[39mr\u001b[39m\u001b[39m\"\u001b[39m) \u001b[39mas\u001b[39;00m fh:\n\u001b[1;32m     40\u001b[0m     \u001b[39mfor\u001b[39;00m line \u001b[39min\u001b[39;00m fh:\n",
      "\u001b[0;31mAssertionError\u001b[0m: Layout file does not exist"
     ]
    }
   ],
   "source": [
    "import matplotlib.pyplot as plt\n",
    "from radardsp.antennas import load_virtual_array_layout\n",
    "\n",
    "rxl, txl = load_virtual_array_layout('./antenna_cfg.txt')\n",
    "######### plot virtual array layout #########\n",
    "x = []\n",
    "y = []\n",
    "va_pos = []\n",
    "for tidx, taz, tel in txl:\n",
    "    for ridx, raz, rel in rxl:\n",
    "        x.append(taz+raz) # RX_id_tot in MATLAB\n",
    "        y.append(tel+rel) # RX_id_tot_ele in MATLAB\n",
    "        va_pos.append((taz+raz, tel+rel))\n",
    "# remove duplicates\n",
    "va_pos = list(set(va_pos))\n",
    "\n",
    "# plot the virtual antenna array layout\n",
    "for _, __ in va_pos:\n",
    "        plt.plot(_, __, 'o')\n",
    "#############################################"
   ]
  }
 ],
 "metadata": {
  "kernelspec": {
   "display_name": "mmmesh",
   "language": "python",
   "name": "python3"
  },
  "language_info": {
   "codemirror_mode": {
    "name": "ipython",
    "version": 3
   },
   "file_extension": ".py",
   "mimetype": "text/x-python",
   "name": "python",
   "nbconvert_exporter": "python",
   "pygments_lexer": "ipython3",
   "version": "3.10.9"
  },
  "orig_nbformat": 4
 },
 "nbformat": 4,
 "nbformat_minor": 2
}
